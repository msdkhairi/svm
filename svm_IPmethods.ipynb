{
  "nbformat": 4,
  "nbformat_minor": 0,
  "metadata": {
    "colab": {
      "name": "CO Project.ipynb",
      "provenance": [],
      "collapsed_sections": [],
      "toc_visible": true,
      "include_colab_link": true
    },
    "kernelspec": {
      "name": "python3",
      "display_name": "Python 3"
    }
  },
  "cells": [
    {
      "cell_type": "markdown",
      "metadata": {
        "id": "view-in-github",
        "colab_type": "text"
      },
      "source": [
        "<a href=\"https://colab.research.google.com/github/msdkhairi/svm/blob/master/svm_IPmethods.ipynb\" target=\"_parent\"><img src=\"https://colab.research.google.com/assets/colab-badge.svg\" alt=\"Open In Colab\"/></a>"
      ]
    },
    {
      "cell_type": "markdown",
      "metadata": {
        "id": "qXtiqF4BJN15",
        "colab_type": "text"
      },
      "source": [
        "In this notebook **Interior Point Methods** are used to solve SVM. Two methods are implemented:\n",
        "\n",
        "*   Barrier method\n",
        "*   PDIP (Primal-Dual Interior Point method)\n",
        "\n",
        "For more information about these methods, you can refer to chapter 11 of Convex Optimization book by Stephen Boyd.\n",
        "\n"
      ]
    },
    {
      "cell_type": "code",
      "metadata": {
        "id": "kfYaM5WPaybI",
        "colab_type": "code",
        "colab": {}
      },
      "source": [
        "import numpy as np\n",
        "import matplotlib.pyplot as plt"
      ],
      "execution_count": 0,
      "outputs": []
    },
    {
      "cell_type": "code",
      "metadata": {
        "id": "GuU1MzekFubS",
        "colab_type": "code",
        "colab": {}
      },
      "source": [
        "# load data\n",
        "data = np.loadtxt('data.txt', delimiter=' ')\n",
        "X = data[:,:2]\n",
        "y = data[:,2]"
      ],
      "execution_count": 0,
      "outputs": []
    },
    {
      "cell_type": "markdown",
      "metadata": {
        "id": "gyWOyxMkpKYm",
        "colab_type": "text"
      },
      "source": [
        "# Barrier method\n"
      ]
    },
    {
      "cell_type": "markdown",
      "metadata": {
        "id": "AwtyEGubYg-B",
        "colab_type": "text"
      },
      "source": [
        "### RBF kernel"
      ]
    },
    {
      "cell_type": "code",
      "metadata": {
        "id": "hoLtf_oCmy7m",
        "colab_type": "code",
        "colab": {}
      },
      "source": [
        "# define functions to compute RBF kernel of data\n",
        "\n",
        "def rbf(x1, x2, gamma=500):\n",
        "  axis = None if x2.ndim==1 else 1\n",
        "  return np.exp(-gamma*np.linalg.norm(x1-x2, axis=axis)**2)\n",
        "\n",
        "\n",
        "def RBF_kernel(X, y):\n",
        "    \n",
        "  x_size = X.shape[0]\n",
        "  K = np.zeros((x_size, x_size))\n",
        "\n",
        "  for i in range(x_size):\n",
        "    for j in range(x_size):\n",
        "      K[i, j] = y[i] * y[j] * rbf(X[i], X[j])\n",
        "  return K\n",
        "\n",
        "def log(w):\n",
        "  \"\"\" return the log(w) if w > 0 \n",
        "      when w <= a very big negative number is returned\n",
        "  \"\"\"\n",
        "  w = (w > 0) * w + (w <= 0) * 1e-300\n",
        "  return np.log(w)\n"
      ],
      "execution_count": 0,
      "outputs": []
    },
    {
      "cell_type": "code",
      "metadata": {
        "id": "9HC31BkNqYQJ",
        "colab_type": "code",
        "colab": {}
      },
      "source": [
        "# compute RBF kernel\n",
        "K_hat= RBF_kernel(X, y)"
      ],
      "execution_count": 0,
      "outputs": []
    },
    {
      "cell_type": "markdown",
      "metadata": {
        "id": "kbICI8pdpHAO",
        "colab_type": "text"
      },
      "source": [
        "### Barrier Objective "
      ]
    },
    {
      "cell_type": "code",
      "metadata": {
        "id": "vsXTot2w_-WJ",
        "colab_type": "code",
        "colab": {}
      },
      "source": [
        "class Objective:\n",
        "    def __init__(self, w_0, t=10**4, K=K_hat, C=0.1):\n",
        "        self.w = w_0\n",
        "        self.t = t\n",
        "        self._K = K\n",
        "        self._C = C\n",
        "        \n",
        "        self._ones = np.ones_like(w_0)\n",
        "        self._update()\n",
        "    \n",
        "    def _update(self):\n",
        "        self.f = self._f(self.w)\n",
        "        self.grad = self.gradient(self.w)\n",
        "        self.hess = self.hessian(self.w)\n",
        "    \n",
        "    def _f(self, w):\n",
        "        f_hat = 0.5 * w.T @ self._K @ w - np.sum(w)\n",
        "        g = -np.sum(log(w)) - np.sum(log(self._C*self._ones - w))\n",
        "        return self.t*f_hat + g\n",
        "    \n",
        "    def gradient(self, w):\n",
        "        return self.t * self._K @ w - self.t * self._ones - (\n",
        "            np.divide(self._ones, w) + np.divide(self._ones, (w-self._C*self._ones)))\n",
        "    \n",
        "    def hessian(self, w):\n",
        "        return self.t * self._K + np.diag(np.divide(self._ones, w**2)) + (\n",
        "            np.diag(np.divide(self._ones, (w-self._C*self._ones)**2)))\n",
        "        \n",
        "    def setw(self, w):\n",
        "        self.w = w\n",
        "        self._update()\n",
        "        \n",
        "    def sett(self, t):\n",
        "        self.t = t\n",
        "        self._update()\n",
        "        \n",
        "    def __call__(self, w):\n",
        "        return self._f(w)"
      ],
      "execution_count": 0,
      "outputs": []
    },
    {
      "cell_type": "markdown",
      "metadata": {
        "id": "pHXYMgCypSsu",
        "colab_type": "text"
      },
      "source": [
        "### Newton's method"
      ]
    },
    {
      "cell_type": "code",
      "metadata": {
        "id": "rnXeEYJDCxZs",
        "colab_type": "code",
        "colab": {}
      },
      "source": [
        "class Newton:\n",
        "    \n",
        "    def __init__(self, objective, A=y.reshape(-1, 1).T, eps=1e-16 ,alpha=0.01, beta=0.5):\n",
        "        \n",
        "        self.f = objective\n",
        "        self._A = A\n",
        "        self._epsilon = eps\n",
        "        \n",
        "        # params of backtracking line search\n",
        "        self._alpha = alpha\n",
        "        self._beta = beta\n",
        "        \n",
        "        self.dw = self._newton_step()\n",
        "        self.decrement = self._newton_decrement()\n",
        "    \n",
        "    def _newton_step(self):\n",
        "        # solving the KKT system to obtain newton step\n",
        "        \n",
        "        m = np.vstack((self.f.hess, self._A))\n",
        "        m = np.hstack((m, np.vstack((self._A.T, 0))))\n",
        "        \n",
        "        b = np.hstack((-self.f.grad, 0))\n",
        "        \n",
        "        dw_nu = np.linalg.inv(m) @ b\n",
        "        dw = dw_nu[:-1]\n",
        "        return dw\n",
        "    \n",
        "    def _newton_decrement(self):\n",
        "        # newton decrement ** 2\n",
        "        return self.dw.T @ self.f.hess @ self.dw\n",
        "    \n",
        "    def _line_search(self):\n",
        "        # back_tracking line search\n",
        "        t = 1\n",
        "        while self.f(self.f.w+t*self.dw) > self.f.f + (\n",
        "            self._alpha * t * self.f.grad.T @ self.dw):\n",
        "            t = self._beta * t\n",
        "        return t\n",
        "        \n",
        "    def run(self):\n",
        "        while self.decrement/2 > self._epsilon:\n",
        "            t = self._line_search()\n",
        "            self.f.setw(self.f.w + t*self.dw)            \n",
        "            self.dw = self._newton_step()\n",
        "            self.decrement = self._newton_decrement()\n",
        "        return self.f.w\n",
        "            \n",
        "    def setobj(self, obj):\n",
        "        self.objective = obj"
      ],
      "execution_count": 0,
      "outputs": []
    },
    {
      "cell_type": "markdown",
      "metadata": {
        "id": "WFw8jyIhvXyt",
        "colab_type": "text"
      },
      "source": [
        "### Barrier method"
      ]
    },
    {
      "cell_type": "code",
      "metadata": {
        "id": "XsL1Y2jSqS7C",
        "colab_type": "code",
        "colab": {}
      },
      "source": [
        "class Barrier:\n",
        "    def __init__(self, objective, newton, t=10000, m=y.shape[0]*2, mu=4, eps=1e-8):\n",
        "        self.f = objective\n",
        "        self.newton = newton\n",
        "        self.t = t\n",
        "        self._m = m\n",
        "        self._mu = mu\n",
        "        self._eps = eps\n",
        "        \n",
        "        self.obj_values = []\n",
        "        \n",
        "    def update(self, w):\n",
        "        # update w, t, and f\n",
        "        self.f.setw(w)\n",
        "        self.f.sett(self.t)\n",
        "        self.newton.setobj(self.f)\n",
        "                \n",
        "    def report(self, plot=False):\n",
        "        print('Iter {}: f* = {}'.format(self.iteration+1, self.f.f))\n",
        "        \n",
        "    def run(self):\n",
        "        self.iteration = 0\n",
        "        while self._m/self.t > self._eps:\n",
        "            self.report()\n",
        "            self.obj_values.append(self.f.f)\n",
        "            \n",
        "            w_star = self.newton.run()\n",
        "            self.t = self._mu * self.t\n",
        "            self.update(w_star)\n",
        "            \n",
        "            self.iteration += 1\n",
        "            "
      ],
      "execution_count": 0,
      "outputs": []
    },
    {
      "cell_type": "markdown",
      "metadata": {
        "id": "IyaxBs-aV6B_",
        "colab_type": "text"
      },
      "source": [
        "### SVM"
      ]
    },
    {
      "cell_type": "code",
      "metadata": {
        "id": "_eezeJkYV00C",
        "colab_type": "code",
        "colab": {}
      },
      "source": [
        "class SVMClassifier:\n",
        "    def __init__(self, w, K, X, y):\n",
        "        self.w = w\n",
        "        self.K = K\n",
        "        self.X = X\n",
        "        self.y = y\n",
        "        \n",
        "        self.b = self._beta_0()\n",
        "        \n",
        "    def _beta_0(self):\n",
        "        sup_vec = np.where(self.w > 1e-5)[0]\n",
        "        b = 0\n",
        "        for j in sup_vec:\n",
        "            b += self.y[j] - np.sum(self.w*self.y*self.K[:,j])\n",
        "        return b / sup_vec.size\n",
        "    \n",
        "    def predict(self, x):\n",
        "        size = x.shape[0]\n",
        "        y_pred = np.zeros(size)\n",
        "        if x.ndim==1:\n",
        "            return np.sign(np.sum(self.w*self.y*rbf(x, self.X)) + self.b)\n",
        "        else:\n",
        "            for i in range(size):\n",
        "                y_pred[i] = self.predict(x[i])\n",
        "            return y_pred\n",
        "        \n",
        "    def accuracy(self, x, y_true):\n",
        "        y_pred = self.predict(x)\n",
        "        return np.sum(y_pred==y_true) / y_true.size"
      ],
      "execution_count": 0,
      "outputs": []
    },
    {
      "cell_type": "markdown",
      "metadata": {
        "id": "FdTHyOaZwh2h",
        "colab_type": "text"
      },
      "source": [
        "### RUN the optimiztion"
      ]
    },
    {
      "cell_type": "code",
      "metadata": {
        "id": "IRPM_9N3xX5M",
        "colab_type": "code",
        "outputId": "4a5ddf4c-a98c-4040-9382-8968636f2f43",
        "colab": {
          "base_uri": "https://localhost:8080/",
          "height": 35
        }
      },
      "source": [
        "# define initial point w_0\n",
        "w_0 = (y==-1) * np.count_nonzero(y==1) + (y==1) * np.count_nonzero(y==-1)\n",
        "w_0 = w_0 / 10000\n",
        "np.dot(w_0, y)"
      ],
      "execution_count": 0,
      "outputs": [
        {
          "output_type": "execute_result",
          "data": {
            "text/plain": [
              "-9.33975119465913e-15"
            ]
          },
          "metadata": {
            "tags": []
          },
          "execution_count": 210
        }
      ]
    },
    {
      "cell_type": "code",
      "metadata": {
        "id": "T7WF7ZjXThhw",
        "colab_type": "code",
        "colab": {}
      },
      "source": [
        "objective = Objective(w_0, t=10**4)\n",
        "newton = Newton(objective, eps=1e-5)\n",
        "barr = Barrier(objective, newton)"
      ],
      "execution_count": 0,
      "outputs": []
    },
    {
      "cell_type": "code",
      "metadata": {
        "id": "oiLgahQ26e0q",
        "colab_type": "code",
        "outputId": "cc306816-d840-49c0-f7fb-efc067c4be73",
        "colab": {
          "base_uri": "https://localhost:8080/",
          "height": 254
        }
      },
      "source": [
        "barr.run()"
      ],
      "execution_count": 0,
      "outputs": [
        {
          "output_type": "stream",
          "text": [
            "Iter 1: f* = -276649.1034325002\n",
            "Iter 2: f* = -362773805.3551815\n",
            "Iter 3: f* = -1452847330.3718767\n",
            "Iter 4: f* = -5813141430.438658\n",
            "Iter 5: f* = -23254317830.70578\n",
            "Iter 6: f* = -93019023431.77428\n",
            "Iter 7: f* = -372077845836.0482\n",
            "Iter 8: f* = -1488313135453.144\n",
            "Iter 9: f* = -5953254293921.527\n",
            "Iter 10: f* = -23813018927795.062\n",
            "Iter 11: f* = -95252077463289.2\n",
            "Iter 12: f* = -381008311605265.75\n",
            "Iter 13: f* = -1524033248173172.0\n"
          ],
          "name": "stdout"
        }
      ]
    },
    {
      "cell_type": "code",
      "metadata": {
        "id": "kDbSO2ZH1ASq",
        "colab_type": "code",
        "outputId": "b636a0ad-ba35-4779-ccb6-f1eb914eb79d",
        "colab": {
          "base_uri": "https://localhost:8080/",
          "height": 281
        }
      },
      "source": [
        "plt.figure(), plt.title('f* in iterations')\n",
        "plt.plot(barr.obj_values);"
      ],
      "execution_count": 0,
      "outputs": [
        {
          "output_type": "display_data",
          "data": {
            "image/png": "[encoded data removed]",
            "text/plain": [
              "<Figure size 432x288 with 1 Axes>"
            ]
          },
          "metadata": {
            "tags": []
          }
        }
      ]
    },
    {
      "cell_type": "code",
      "metadata": {
        "id": "r_pCt_yOsmEz",
        "colab_type": "code",
        "outputId": "4cbf74f8-4240-4acc-d2b1-d232d771a2a5",
        "colab": {
          "base_uri": "https://localhost:8080/",
          "height": 35
        }
      },
      "source": [
        "barr_svm = SVMClassifier(barr.f.w, K_hat, X, y)\n",
        "print('Accuracy of SVM using Barrier method=', barr_svm.accuracy(X, y))"
      ],
      "execution_count": 0,
      "outputs": [
        {
          "output_type": "stream",
          "text": [
            "Accuracy of SVM using Barrier method= 0.5561993047508691\n"
          ],
          "name": "stdout"
        }
      ]
    },
    {
      "cell_type": "markdown",
      "metadata": {
        "id": "3NMIfgxCFnud",
        "colab_type": "text"
      },
      "source": [
        "# PDIP (Primal - Dual Interior Point method)"
      ]
    },
    {
      "cell_type": "code",
      "metadata": {
        "id": "TagCxWk8JyZq",
        "colab_type": "code",
        "colab": {}
      },
      "source": [
        "class PDIP:\n",
        "  \n",
        "  def __init__(self, w_0, u_0, v_0, landa_0, \n",
        "               Y=y, K=K_hat, C=0.1, mu=1000, m=y.shape[0]*2, t_0=1, \n",
        "               alpha=0.01, beta=0.5, eps_feas=1e-6, eps=2e-6):\n",
        "    \n",
        "    self.w = w_0\n",
        "    self.u = u_0\n",
        "    self.v = v_0\n",
        "    self.landa = landa_0\n",
        "    self.z = np.hstack((self.w, self.u, self.v, self.landa))\n",
        "    self.dz = self.z.copy()\n",
        "    \n",
        "    \n",
        "    self.y = Y\n",
        "    self.K = K\n",
        "    self.C = C\n",
        "    self.mu = mu\n",
        "    self.m = m\n",
        "    self.t = t_0\n",
        "\n",
        "    self.alpha = alpha\n",
        "    self.beta = beta\n",
        "    self.eps = eps\n",
        "    self.eps_feas = eps_feas\n",
        "    \n",
        "    self.s = 0\n",
        "    \n",
        "    self.iteration = 0\n",
        "    self.all_obj = []\n",
        "    \n",
        "    self.update()\n",
        "  \n",
        "  def update(self):\n",
        "\n",
        "    self.eta = self._duality_gap()\n",
        "\n",
        "    self.r_dual, self.r_cent, self.r_prim = self.r(self.z)\n",
        "    \n",
        "    self.z = self.z + self.s*self.dz\n",
        "    \n",
        "    self.w, self.u, self.v, self.landa = self.unpack(self.z)\n",
        "    self.dw, self.du, self.dv, self.dlanda = self.unpack(self.dz)\n",
        "    \n",
        "    self.iteration += 1\n",
        "    \n",
        "    self.obj = self.objective()\n",
        "    self.all_obj.append(self.obj)\n",
        "    \n",
        "  def _duality_gap(self):\n",
        "    return np.dot(self.w, self.u) + np.dot((self.C - self.w), self.v)\n",
        "  \n",
        "  def unpack(self, z):\n",
        "    s = self.w.shape[0] # size\n",
        "    w = z[:s]\n",
        "    u = z[s:2*s]\n",
        "    v = z[2*s:3*s]\n",
        "    landa = z[-1]\n",
        "    return w, u, v, landa\n",
        "  \n",
        "  def r(self, z):\n",
        "    w, u, v, landa = self.unpack(z) \n",
        "    r_dual = self.K @ w -1 - u + v + self.y*landa\n",
        "    r_cent = np.diag(np.hstack((u, v))) @ np.hstack(\n",
        "        (w, (self.C - w))) - 1/self.t\n",
        "    r_prim = np.dot(self.y, w)\n",
        "    return r_dual, r_cent, r_prim\n",
        "  \n",
        "  def r2(self, z):\n",
        "    return(np.linalg.norm(np.hstack(self.r(z))))\n",
        "      \n",
        "  def pd_direction(self):\n",
        "    y = self.y.reshape(-1, 1)\n",
        "    n = self.w.shape[0]\n",
        "    I = np.eye(n)\n",
        "    Z = np.zeros((n, n))\n",
        "    z = np.zeros((n, 1))\n",
        "    \n",
        "    drz = np.block([[self.K, -I, I, y], \n",
        "                    [np.diag(self.u), np.diag(self.w), Z, z],\n",
        "                    [-np.diag(self.v), Z, np.diag(self.C - self.w), z],\n",
        "                    [y.T, z.T, z.T, 0]])\n",
        "    \n",
        "    rz = np.hstack((self.r_dual, self.r_cent, self.r_prim))\n",
        "    \n",
        "    \n",
        "    self.dz = -np.linalg.inv(drz) @ rz\n",
        "  \n",
        "  def _s_max(self):    \n",
        "    L = np.hstack((self.u, self.v))\n",
        "    dL = np.hstack((self.du, self.dv))\n",
        "    Ls = [-L[i] / dL[i] for i in range(self.m) if dL[i] < 0]\n",
        "    if not Ls:\n",
        "      return 1\n",
        "    return np.minimum(1, min(Ls))\n",
        "  \n",
        "  def line_search(self):\n",
        "    s_max = self._s_max()\n",
        "    self.s = 0.99 * s_max\n",
        "    \n",
        "    while (self.r2(self.z+self.dz) > \n",
        "        (1 - self.alpha*self.s) * self.r2(self.z)):\n",
        "      self.s = self.s * self.beta\n",
        "\n",
        "  \n",
        "  def objective(self):\n",
        "    return 0.5 * self.w.T @ self.K @ self.w - np.sum(self.w)\n",
        "    \n",
        "  def report(self):\n",
        "    print('Iter {}: f*={}'.format(self.iteration, self.obj))\n",
        "  \n",
        "  def run(self):\n",
        "    while True:\n",
        "      self.t = self.mu * self.m / self.eta\n",
        "      self.pd_direction()\n",
        "      self.line_search()\n",
        "      self.update()\n",
        "      self.report()\n",
        "    \n",
        "      if (np.sqrt(np.linalg.norm(self.r_prim)**2 + \n",
        "                  np.linalg.norm(self.r_dual)**2) <= self.eps_feas \n",
        "          and self.eta <= self.eps):\n",
        "        break\n",
        "        "
      ],
      "execution_count": 0,
      "outputs": []
    },
    {
      "cell_type": "markdown",
      "metadata": {
        "id": "1TMRXRBK0Fnv",
        "colab_type": "text"
      },
      "source": [
        "### Run PDIP"
      ]
    },
    {
      "cell_type": "code",
      "metadata": {
        "id": "uZyVhE5-49iV",
        "colab_type": "code",
        "colab": {}
      },
      "source": [
        "# PDIP initialization params\n",
        "w_0 = (y==-1) * np.count_nonzero(y==1) + (y==1) * np.count_nonzero(y==-1)\n",
        "w_0 = w_0 / 10000\n",
        "# w_0, u_0, v_0 are all strictly feasible\n",
        "u_0 = np.random.rand(w_0.shape[0])\n",
        "v_0 = np.random.rand(w_0.shape[0])\n",
        "landa_0 = 1"
      ],
      "execution_count": 0,
      "outputs": []
    },
    {
      "cell_type": "code",
      "metadata": {
        "id": "pMjy6TGMBg6P",
        "colab_type": "code",
        "outputId": "e3b4c86d-4ebb-4518-d68d-66ff0c054c76",
        "colab": {
          "base_uri": "https://localhost:8080/",
          "height": 1000
        }
      },
      "source": [
        "pdip = PDIP(w_0, u_0, v_0, landa_0)\n",
        "pdip.run()"
      ],
      "execution_count": 0,
      "outputs": [
        {
          "output_type": "stream",
          "text": [
            "Iter 1: f*=-37.755232350470536\n",
            "Iter 2: f*=-37.88678259812138\n",
            "Iter 3: f*=-37.94213445448706\n",
            "Iter 4: f*=-37.9978006201082\n",
            "Iter 5: f*=-38.062201236826695\n",
            "Iter 6: f*=-38.13625441300278\n",
            "Iter 7: f*=-38.21997794948979\n",
            "Iter 8: f*=-38.313220170589084\n",
            "Iter 9: f*=-38.415713859714046\n",
            "Iter 10: f*=-38.52705888695394\n",
            "Iter 11: f*=-38.64670519541937\n",
            "Iter 12: f*=-38.77394521413474\n",
            "Iter 13: f*=-38.907917408451326\n",
            "Iter 14: f*=-39.04762128908448\n",
            "Iter 15: f*=-39.19194308092098\n",
            "Iter 16: f*=-39.339689981850626\n",
            "Iter 17: f*=-39.48962980786405\n",
            "Iter 18: f*=-39.64053217296838\n",
            "Iter 19: f*=-39.79120738408049\n",
            "Iter 20: f*=-39.9405398747745\n",
            "Iter 21: f*=-40.08751394071307\n",
            "Iter 22: f*=-40.231230198571765\n",
            "Iter 23: f*=-40.37090999885564\n",
            "Iter 24: f*=-40.505871064751005\n",
            "Iter 25: f*=-40.635138775332436\n",
            "Iter 26: f*=-40.76011587100263\n",
            "Iter 27: f*=-40.87950157216804\n",
            "Iter 28: f*=-40.99153195587384\n",
            "Iter 29: f*=-41.0986636629861\n",
            "Iter 30: f*=-41.19929555091228\n",
            "Iter 31: f*=-41.29420300850996\n",
            "Iter 32: f*=-41.38466410973582\n",
            "Iter 33: f*=-41.46880359139838\n",
            "Iter 34: f*=-41.54738842589025\n",
            "Iter 35: f*=-41.62063573851381\n",
            "Iter 36: f*=-41.68876819257679\n",
            "Iter 37: f*=-41.75202427244648\n",
            "Iter 38: f*=-41.81065442106929\n",
            "Iter 39: f*=-41.86490966106038\n",
            "Iter 40: f*=-41.915035620440655\n",
            "Iter 41: f*=-41.96127138666931\n",
            "Iter 42: f*=-42.00384908677297\n",
            "Iter 43: f*=-42.042993931477426\n",
            "Iter 44: f*=-42.07892479741624\n",
            "Iter 45: f*=-42.111854584210874\n",
            "Iter 46: f*=-42.14198978472196\n",
            "Iter 47: f*=-42.169529412421525\n",
            "Iter 48: f*=-42.19466266149473\n",
            "Iter 49: f*=-42.2175896739513\n",
            "Iter 50: f*=-42.23845643167307\n",
            "Iter 51: f*=-42.25743536250456\n",
            "Iter 52: f*=-42.27439295096762\n",
            "Iter 53: f*=-42.29005265657916\n",
            "Iter 54: f*=-42.30427825355648\n",
            "Iter 55: f*=-42.3171703480118\n",
            "Iter 56: f*=-42.328841903387364\n",
            "Iter 57: f*=-42.33939961046147\n",
            "Iter 58: f*=-42.34894227374471\n",
            "Iter 59: f*=-42.35756101505492\n",
            "Iter 60: f*=-42.36533967310113\n",
            "Iter 61: f*=-42.372355230516476\n",
            "Iter 62: f*=-42.378678251924896\n",
            "Iter 63: f*=-42.38437332699289\n",
            "Iter 64: f*=-42.38949950903056\n",
            "Iter 65: f*=-42.39411073806656\n",
            "Iter 66: f*=-42.3982562388801\n",
            "Iter 67: f*=-42.40198088846409\n",
            "Iter 68: f*=-42.40532555266144\n",
            "Iter 69: f*=-42.40832739659252\n",
            "Iter 70: f*=-42.41102017593987\n",
            "Iter 71: f*=-42.41343451490509\n",
            "Iter 72: f*=-42.41559817247188\n",
            "Iter 73: f*=-42.41753629421184\n",
            "Iter 74: f*=-42.41927164504404\n",
            "Iter 75: f*=-42.420824819874795\n",
            "Iter 76: f*=-42.42221443240124\n",
            "Iter 77: f*=-42.42345728528397\n",
            "Iter 78: f*=-42.42456852599615\n",
            "Iter 79: f*=-42.42556179195804\n",
            "Iter 80: f*=-42.4264493469976\n",
            "Iter 81: f*=-42.42724220971582\n",
            "Iter 82: f*=-42.42795027347174\n",
            "Iter 83: f*=-42.42858241745786\n",
            "Iter 84: f*=-42.42914660851107\n",
            "Iter 85: f*=-42.429649993665734\n",
            "Iter 86: f*=-42.43009898381615\n",
            "Iter 87: f*=-42.430499329093976\n",
            "Iter 88: f*=-42.43085618665283\n",
            "Iter 89: f*=-42.43117418152578\n",
            "Iter 90: f*=-42.43145746114027\n",
            "Iter 91: f*=-42.43170974400442\n",
            "Iter 92: f*=-42.43193436307209\n",
            "Iter 93: f*=-42.432134304357504\n",
            "Iter 94: f*=-42.43231224144468\n",
            "Iter 95: f*=-42.432470566530384\n",
            "Iter 96: f*=-42.43261141852267\n",
            "Iter 97: f*=-42.43273670854907\n",
            "Iter 98: f*=-42.43284814310058\n",
            "Iter 99: f*=-42.43294724498887\n",
            "Iter 100: f*=-42.43303537229512\n",
            "Iter 101: f*=-42.43311373549812\n",
            "Iter 102: f*=-42.43318341295918\n",
            "Iter 103: f*=-42.433245364916644\n",
            "Iter 104: f*=-42.433300446116185\n",
            "Iter 105: f*=-42.43334941718457\n",
            "Iter 106: f*=-42.43339295484698\n",
            "Iter 107: f*=-42.43343166108341\n",
            "Iter 108: f*=-42.43346607131839\n",
            "Iter 109: f*=-42.43349666173573\n",
            "Iter 110: f*=-42.433523855804694\n",
            "Iter 111: f*=-42.43354803009825\n",
            "Iter 112: f*=-42.43356951947725\n",
            "Iter 113: f*=-42.43358862170711\n",
            "Iter 114: f*=-42.43360560156674\n",
            "Iter 115: f*=-42.43362069450431\n",
            "Iter 116: f*=-42.43363410988769\n",
            "Iter 117: f*=-42.43364603389419\n",
            "Iter 118: f*=-42.43365663207888\n",
            "Iter 119: f*=-42.43366605165693\n",
            "Iter 120: f*=-42.43367442353254\n",
            "Iter 121: f*=-42.43368186410249\n",
            "Iter 122: f*=-42.43368847685994\n",
            "Iter 123: f*=-42.43369435382077\n",
            "Iter 124: f*=-42.43369957679255\n",
            "Iter 125: f*=-42.43370421850359\n",
            "Iter 126: f*=-42.43370834360728\n",
            "Iter 127: f*=-42.43371200957606\n",
            "Iter 128: f*=-42.433715267496666\n",
            "Iter 129: f*=-42.433718162777836\n",
            "Iter 130: f*=-42.43372073577967\n",
            "Iter 131: f*=-42.43372302237396\n",
            "Iter 132: f*=-42.433725054442036\n",
            "Iter 133: f*=-42.433726860318174\n",
            "Iter 134: f*=-42.43372846518336\n",
            "Iter 135: f*=-42.433729891415965\n",
            "Iter 136: f*=-42.43373115890326\n",
            "Iter 137: f*=-42.43373228531843\n",
            "Iter 138: f*=-42.43373328636699\n",
            "Iter 139: f*=-42.4337341760056\n",
            "Iter 140: f*=-42.433734966637005\n",
            "Iter 141: f*=-42.43373566928268\n",
            "Iter 142: f*=-42.43373629373693\n",
            "Iter 143: f*=-42.4337368487034\n",
            "Iter 144: f*=-42.43373734191662\n",
            "Iter 145: f*=-42.43373778024981\n",
            "Iter 146: f*=-42.433738169810994\n",
            "Iter 147: f*=-42.43373851602817\n",
            "Iter 148: f*=-42.43373882372496\n",
            "Iter 149: f*=-42.43373909718805\n",
            "Iter 150: f*=-42.43373934022692\n",
            "Iter 151: f*=-42.433739556226996\n",
            "Iter 152: f*=-42.43373974819692\n",
            "Iter 153: f*=-42.433739918810446\n",
            "Iter 154: f*=-42.433740070443754\n",
            "Iter 155: f*=-42.43374020520859\n",
            "Iter 156: f*=-42.433740324981684\n",
            "Iter 157: f*=-42.43374043143098\n",
            "Iter 158: f*=-42.43374052603873\n",
            "Iter 159: f*=-42.433740610122335\n",
            "Iter 160: f*=-42.43374068485258\n"
          ],
          "name": "stdout"
        }
      ]
    },
    {
      "cell_type": "code",
      "metadata": {
        "id": "kSxaGtqi_Jot",
        "colab_type": "code",
        "outputId": "1e6e3285-5c67-41d9-8e18-eaf857780017",
        "colab": {
          "base_uri": "https://localhost:8080/",
          "height": 269
        }
      },
      "source": [
        "plt.plot(pdip.all_obj);"
      ],
      "execution_count": 0,
      "outputs": [
        {
          "output_type": "display_data",
          "data": {
            "image/png": "[encoded data removed]",
            "text/plain": [
              "<Figure size 432x288 with 1 Axes>"
            ]
          },
          "metadata": {
            "tags": []
          }
        }
      ]
    },
    {
      "cell_type": "code",
      "metadata": {
        "id": "_2Xc2gxMF5ye",
        "colab_type": "code",
        "outputId": "436d3a54-f214-4472-ec4a-57b678e698c1",
        "colab": {
          "base_uri": "https://localhost:8080/",
          "height": 35
        }
      },
      "source": [
        "pdip_svm = SVMClassifier(pdip.w, K_hat, X, y)\n",
        "print('Accuracy of SVM using PDIP=', pdip_svm.accuracy(X, y))"
      ],
      "execution_count": 0,
      "outputs": [
        {
          "output_type": "stream",
          "text": [
            "Accuracy of SVM using PDIP= 0.996523754345307\n"
          ],
          "name": "stdout"
        }
      ]
    },
    {
      "cell_type": "code",
      "metadata": {
        "id": "vh91pLx-5HN6",
        "colab_type": "code",
        "colab": {}
      },
      "source": [
        ""
      ],
      "execution_count": 0,
      "outputs": []
    }
  ]
}